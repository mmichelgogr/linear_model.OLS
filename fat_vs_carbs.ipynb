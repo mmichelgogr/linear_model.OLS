{
  "nbformat": 4,
  "nbformat_minor": 0,
  "metadata": {
    "colab": {
      "provenance": []
    },
    "kernelspec": {
      "name": "python3",
      "display_name": "Python 3"
    },
    "language_info": {
      "name": "python"
    }
  },
  "cells": [
    {
      "cell_type": "code",
      "execution_count": 3,
      "metadata": {
        "colab": {
          "base_uri": "https://localhost:8080/"
        },
        "id": "tOpB5UAc_f25",
        "outputId": "f718994d-879b-48d4-ddd6-5539ac1f4466"
      },
      "outputs": [
        {
          "output_type": "stream",
          "name": "stdout",
          "text": [
            "Looking in indexes: https://pypi.org/simple, https://us-python.pkg.dev/colab-wheels/public/simple/\n",
            "Requirement already satisfied: statsmodels in /usr/local/lib/python3.9/dist-packages (0.13.5)\n",
            "Requirement already satisfied: patsy>=0.5.2 in /usr/local/lib/python3.9/dist-packages (from statsmodels) (0.5.3)\n",
            "Requirement already satisfied: scipy>=1.3 in /usr/local/lib/python3.9/dist-packages (from statsmodels) (1.10.1)\n",
            "Requirement already satisfied: packaging>=21.3 in /usr/local/lib/python3.9/dist-packages (from statsmodels) (23.0)\n",
            "Requirement already satisfied: pandas>=0.25 in /usr/local/lib/python3.9/dist-packages (from statsmodels) (1.4.4)\n",
            "Requirement already satisfied: numpy>=1.17 in /usr/local/lib/python3.9/dist-packages (from statsmodels) (1.22.4)\n",
            "Requirement already satisfied: python-dateutil>=2.8.1 in /usr/local/lib/python3.9/dist-packages (from pandas>=0.25->statsmodels) (2.8.2)\n",
            "Requirement already satisfied: pytz>=2020.1 in /usr/local/lib/python3.9/dist-packages (from pandas>=0.25->statsmodels) (2022.7.1)\n",
            "Requirement already satisfied: six in /usr/local/lib/python3.9/dist-packages (from patsy>=0.5.2->statsmodels) (1.16.0)\n"
          ]
        }
      ],
      "source": [
        "!pip install statsmodels"
      ]
    },
    {
      "cell_type": "code",
      "source": [
        "!gdown \"1F2BxugRqtytQAnudIzvh01fxnzDKzfF8\" -O fastfood.csv"
      ],
      "metadata": {
        "colab": {
          "base_uri": "https://localhost:8080/"
        },
        "id": "X0qmVQNS_j8s",
        "outputId": "0e1cac7a-bb08-4c38-c173-9d997a174f0e"
      },
      "execution_count": 4,
      "outputs": [
        {
          "output_type": "stream",
          "name": "stdout",
          "text": [
            "Downloading...\n",
            "From: https://drive.google.com/uc?id=1F2BxugRqtytQAnudIzvh01fxnzDKzfF8\n",
            "To: /content/fastfood.csv\n",
            "\r  0% 0.00/43.6k [00:00<?, ?B/s]\r100% 43.6k/43.6k [00:00<00:00, 32.3MB/s]\n"
          ]
        }
      ]
    },
    {
      "cell_type": "code",
      "source": [
        "!wget https://raw.githubusercontent.com/MicrosoftDocs/mslearn-introduction-to-machine-learning/main/graphing.py"
      ],
      "metadata": {
        "colab": {
          "base_uri": "https://localhost:8080/"
        },
        "id": "aHmUHGyJ_lYM",
        "outputId": "1ebce430-fc03-42f5-fdc5-d5b8bcccf936"
      },
      "execution_count": 5,
      "outputs": [
        {
          "output_type": "stream",
          "name": "stdout",
          "text": [
            "--2023-04-10 18:37:20--  https://raw.githubusercontent.com/MicrosoftDocs/mslearn-introduction-to-machine-learning/main/graphing.py\n",
            "Resolving raw.githubusercontent.com (raw.githubusercontent.com)... 185.199.108.133, 185.199.109.133, 185.199.110.133, ...\n",
            "Connecting to raw.githubusercontent.com (raw.githubusercontent.com)|185.199.108.133|:443... connected.\n",
            "HTTP request sent, awaiting response... 200 OK\n",
            "Length: 21511 (21K) [text/plain]\n",
            "Saving to: ‘graphing.py’\n",
            "\n",
            "\rgraphing.py           0%[                    ]       0  --.-KB/s               \rgraphing.py         100%[===================>]  21.01K  --.-KB/s    in 0s      \n",
            "\n",
            "2023-04-10 18:37:20 (134 MB/s) - ‘graphing.py’ saved [21511/21511]\n",
            "\n"
          ]
        }
      ]
    },
    {
      "cell_type": "markdown",
      "source": [
        "## Cargar datos e importar librerías"
      ],
      "metadata": {
        "id": "IOIZ1sTSKGVK"
      }
    },
    {
      "cell_type": "code",
      "source": [
        "import pandas as pd\n",
        "import statsmodels.formula.api as smf\n",
        "import graphing\n",
        "from sklearn.preprocessing import MinMaxScaler\n",
        "import matplotlib.pyplot as plt"
      ],
      "metadata": {
        "id": "kih3MGHo_2Rl"
      },
      "execution_count": 144,
      "outputs": []
    },
    {
      "cell_type": "code",
      "source": [
        "df = pd.read_csv('fastfood.csv',delimiter=',',header='infer', usecols=[\"total_fat\", \"total_carb\"])\n",
        "df.head()"
      ],
      "metadata": {
        "colab": {
          "base_uri": "https://localhost:8080/",
          "height": 206
        },
        "id": "sMq3LzlK_xms",
        "outputId": "5edf81b8-c9f8-416d-851b-42709a964e31"
      },
      "execution_count": 92,
      "outputs": [
        {
          "output_type": "execute_result",
          "data": {
            "text/plain": [
              "   total_fat  total_carb\n",
              "0          7          44\n",
              "1         45          62\n",
              "2         67          63\n",
              "3         31          62\n",
              "4         45          81"
            ],
            "text/html": [
              "\n",
              "  <div id=\"df-81dda8ab-1f4a-4d17-be1e-2c0fae97e239\">\n",
              "    <div class=\"colab-df-container\">\n",
              "      <div>\n",
              "<style scoped>\n",
              "    .dataframe tbody tr th:only-of-type {\n",
              "        vertical-align: middle;\n",
              "    }\n",
              "\n",
              "    .dataframe tbody tr th {\n",
              "        vertical-align: top;\n",
              "    }\n",
              "\n",
              "    .dataframe thead th {\n",
              "        text-align: right;\n",
              "    }\n",
              "</style>\n",
              "<table border=\"1\" class=\"dataframe\">\n",
              "  <thead>\n",
              "    <tr style=\"text-align: right;\">\n",
              "      <th></th>\n",
              "      <th>total_fat</th>\n",
              "      <th>total_carb</th>\n",
              "    </tr>\n",
              "  </thead>\n",
              "  <tbody>\n",
              "    <tr>\n",
              "      <th>0</th>\n",
              "      <td>7</td>\n",
              "      <td>44</td>\n",
              "    </tr>\n",
              "    <tr>\n",
              "      <th>1</th>\n",
              "      <td>45</td>\n",
              "      <td>62</td>\n",
              "    </tr>\n",
              "    <tr>\n",
              "      <th>2</th>\n",
              "      <td>67</td>\n",
              "      <td>63</td>\n",
              "    </tr>\n",
              "    <tr>\n",
              "      <th>3</th>\n",
              "      <td>31</td>\n",
              "      <td>62</td>\n",
              "    </tr>\n",
              "    <tr>\n",
              "      <th>4</th>\n",
              "      <td>45</td>\n",
              "      <td>81</td>\n",
              "    </tr>\n",
              "  </tbody>\n",
              "</table>\n",
              "</div>\n",
              "      <button class=\"colab-df-convert\" onclick=\"convertToInteractive('df-81dda8ab-1f4a-4d17-be1e-2c0fae97e239')\"\n",
              "              title=\"Convert this dataframe to an interactive table.\"\n",
              "              style=\"display:none;\">\n",
              "        \n",
              "  <svg xmlns=\"http://www.w3.org/2000/svg\" height=\"24px\"viewBox=\"0 0 24 24\"\n",
              "       width=\"24px\">\n",
              "    <path d=\"M0 0h24v24H0V0z\" fill=\"none\"/>\n",
              "    <path d=\"M18.56 5.44l.94 2.06.94-2.06 2.06-.94-2.06-.94-.94-2.06-.94 2.06-2.06.94zm-11 1L8.5 8.5l.94-2.06 2.06-.94-2.06-.94L8.5 2.5l-.94 2.06-2.06.94zm10 10l.94 2.06.94-2.06 2.06-.94-2.06-.94-.94-2.06-.94 2.06-2.06.94z\"/><path d=\"M17.41 7.96l-1.37-1.37c-.4-.4-.92-.59-1.43-.59-.52 0-1.04.2-1.43.59L10.3 9.45l-7.72 7.72c-.78.78-.78 2.05 0 2.83L4 21.41c.39.39.9.59 1.41.59.51 0 1.02-.2 1.41-.59l7.78-7.78 2.81-2.81c.8-.78.8-2.07 0-2.86zM5.41 20L4 18.59l7.72-7.72 1.47 1.35L5.41 20z\"/>\n",
              "  </svg>\n",
              "      </button>\n",
              "      \n",
              "  <style>\n",
              "    .colab-df-container {\n",
              "      display:flex;\n",
              "      flex-wrap:wrap;\n",
              "      gap: 12px;\n",
              "    }\n",
              "\n",
              "    .colab-df-convert {\n",
              "      background-color: #E8F0FE;\n",
              "      border: none;\n",
              "      border-radius: 50%;\n",
              "      cursor: pointer;\n",
              "      display: none;\n",
              "      fill: #1967D2;\n",
              "      height: 32px;\n",
              "      padding: 0 0 0 0;\n",
              "      width: 32px;\n",
              "    }\n",
              "\n",
              "    .colab-df-convert:hover {\n",
              "      background-color: #E2EBFA;\n",
              "      box-shadow: 0px 1px 2px rgba(60, 64, 67, 0.3), 0px 1px 3px 1px rgba(60, 64, 67, 0.15);\n",
              "      fill: #174EA6;\n",
              "    }\n",
              "\n",
              "    [theme=dark] .colab-df-convert {\n",
              "      background-color: #3B4455;\n",
              "      fill: #D2E3FC;\n",
              "    }\n",
              "\n",
              "    [theme=dark] .colab-df-convert:hover {\n",
              "      background-color: #434B5C;\n",
              "      box-shadow: 0px 1px 3px 1px rgba(0, 0, 0, 0.15);\n",
              "      filter: drop-shadow(0px 1px 2px rgba(0, 0, 0, 0.3));\n",
              "      fill: #FFFFFF;\n",
              "    }\n",
              "  </style>\n",
              "\n",
              "      <script>\n",
              "        const buttonEl =\n",
              "          document.querySelector('#df-81dda8ab-1f4a-4d17-be1e-2c0fae97e239 button.colab-df-convert');\n",
              "        buttonEl.style.display =\n",
              "          google.colab.kernel.accessAllowed ? 'block' : 'none';\n",
              "\n",
              "        async function convertToInteractive(key) {\n",
              "          const element = document.querySelector('#df-81dda8ab-1f4a-4d17-be1e-2c0fae97e239');\n",
              "          const dataTable =\n",
              "            await google.colab.kernel.invokeFunction('convertToInteractive',\n",
              "                                                     [key], {});\n",
              "          if (!dataTable) return;\n",
              "\n",
              "          const docLinkHtml = 'Like what you see? Visit the ' +\n",
              "            '<a target=\"_blank\" href=https://colab.research.google.com/notebooks/data_table.ipynb>data table notebook</a>'\n",
              "            + ' to learn more about interactive tables.';\n",
              "          element.innerHTML = '';\n",
              "          dataTable['output_type'] = 'display_data';\n",
              "          await google.colab.output.renderOutput(dataTable, element);\n",
              "          const docLink = document.createElement('div');\n",
              "          docLink.innerHTML = docLinkHtml;\n",
              "          element.appendChild(docLink);\n",
              "        }\n",
              "      </script>\n",
              "    </div>\n",
              "  </div>\n",
              "  "
            ]
          },
          "metadata": {},
          "execution_count": 92
        }
      ]
    },
    {
      "cell_type": "markdown",
      "source": [
        "## Normalización de los datos\n",
        "Usando el método de mínimo y máximo"
      ],
      "metadata": {
        "id": "pFH9XuR_EIBM"
      }
    },
    {
      "cell_type": "code",
      "source": [
        "scaler = MinMaxScaler()\n",
        "scaled_df = scaler.fit_transform(df)\n",
        "scaled_df = pd.DataFrame(scaled_df, columns=[\"total_fat\", \"total_carb\"])"
      ],
      "metadata": {
        "id": "K6jDnfJf-BfB"
      },
      "execution_count": 130,
      "outputs": []
    },
    {
      "cell_type": "code",
      "source": [
        "scaled_df.head()"
      ],
      "metadata": {
        "colab": {
          "base_uri": "https://localhost:8080/",
          "height": 206
        },
        "id": "bgbl3Ygf-I8I",
        "outputId": "e0cf1e54-4edc-4d8c-8489-a016d39c04d5"
      },
      "execution_count": 132,
      "outputs": [
        {
          "output_type": "execute_result",
          "data": {
            "text/plain": [
              "   total_fat  total_carb\n",
              "0   0.973684        0.76\n",
              "1   0.552632        0.64\n",
              "2   0.210526        0.00\n",
              "3   0.631579        0.48\n",
              "4   0.263158        0.36"
            ],
            "text/html": [
              "\n",
              "  <div id=\"df-9e0f6226-1a9e-4ba6-81a9-e57ef059d11d\">\n",
              "    <div class=\"colab-df-container\">\n",
              "      <div>\n",
              "<style scoped>\n",
              "    .dataframe tbody tr th:only-of-type {\n",
              "        vertical-align: middle;\n",
              "    }\n",
              "\n",
              "    .dataframe tbody tr th {\n",
              "        vertical-align: top;\n",
              "    }\n",
              "\n",
              "    .dataframe thead th {\n",
              "        text-align: right;\n",
              "    }\n",
              "</style>\n",
              "<table border=\"1\" class=\"dataframe\">\n",
              "  <thead>\n",
              "    <tr style=\"text-align: right;\">\n",
              "      <th></th>\n",
              "      <th>total_fat</th>\n",
              "      <th>total_carb</th>\n",
              "    </tr>\n",
              "  </thead>\n",
              "  <tbody>\n",
              "    <tr>\n",
              "      <th>0</th>\n",
              "      <td>0.973684</td>\n",
              "      <td>0.76</td>\n",
              "    </tr>\n",
              "    <tr>\n",
              "      <th>1</th>\n",
              "      <td>0.552632</td>\n",
              "      <td>0.64</td>\n",
              "    </tr>\n",
              "    <tr>\n",
              "      <th>2</th>\n",
              "      <td>0.210526</td>\n",
              "      <td>0.00</td>\n",
              "    </tr>\n",
              "    <tr>\n",
              "      <th>3</th>\n",
              "      <td>0.631579</td>\n",
              "      <td>0.48</td>\n",
              "    </tr>\n",
              "    <tr>\n",
              "      <th>4</th>\n",
              "      <td>0.263158</td>\n",
              "      <td>0.36</td>\n",
              "    </tr>\n",
              "  </tbody>\n",
              "</table>\n",
              "</div>\n",
              "      <button class=\"colab-df-convert\" onclick=\"convertToInteractive('df-9e0f6226-1a9e-4ba6-81a9-e57ef059d11d')\"\n",
              "              title=\"Convert this dataframe to an interactive table.\"\n",
              "              style=\"display:none;\">\n",
              "        \n",
              "  <svg xmlns=\"http://www.w3.org/2000/svg\" height=\"24px\"viewBox=\"0 0 24 24\"\n",
              "       width=\"24px\">\n",
              "    <path d=\"M0 0h24v24H0V0z\" fill=\"none\"/>\n",
              "    <path d=\"M18.56 5.44l.94 2.06.94-2.06 2.06-.94-2.06-.94-.94-2.06-.94 2.06-2.06.94zm-11 1L8.5 8.5l.94-2.06 2.06-.94-2.06-.94L8.5 2.5l-.94 2.06-2.06.94zm10 10l.94 2.06.94-2.06 2.06-.94-2.06-.94-.94-2.06-.94 2.06-2.06.94z\"/><path d=\"M17.41 7.96l-1.37-1.37c-.4-.4-.92-.59-1.43-.59-.52 0-1.04.2-1.43.59L10.3 9.45l-7.72 7.72c-.78.78-.78 2.05 0 2.83L4 21.41c.39.39.9.59 1.41.59.51 0 1.02-.2 1.41-.59l7.78-7.78 2.81-2.81c.8-.78.8-2.07 0-2.86zM5.41 20L4 18.59l7.72-7.72 1.47 1.35L5.41 20z\"/>\n",
              "  </svg>\n",
              "      </button>\n",
              "      \n",
              "  <style>\n",
              "    .colab-df-container {\n",
              "      display:flex;\n",
              "      flex-wrap:wrap;\n",
              "      gap: 12px;\n",
              "    }\n",
              "\n",
              "    .colab-df-convert {\n",
              "      background-color: #E8F0FE;\n",
              "      border: none;\n",
              "      border-radius: 50%;\n",
              "      cursor: pointer;\n",
              "      display: none;\n",
              "      fill: #1967D2;\n",
              "      height: 32px;\n",
              "      padding: 0 0 0 0;\n",
              "      width: 32px;\n",
              "    }\n",
              "\n",
              "    .colab-df-convert:hover {\n",
              "      background-color: #E2EBFA;\n",
              "      box-shadow: 0px 1px 2px rgba(60, 64, 67, 0.3), 0px 1px 3px 1px rgba(60, 64, 67, 0.15);\n",
              "      fill: #174EA6;\n",
              "    }\n",
              "\n",
              "    [theme=dark] .colab-df-convert {\n",
              "      background-color: #3B4455;\n",
              "      fill: #D2E3FC;\n",
              "    }\n",
              "\n",
              "    [theme=dark] .colab-df-convert:hover {\n",
              "      background-color: #434B5C;\n",
              "      box-shadow: 0px 1px 3px 1px rgba(0, 0, 0, 0.15);\n",
              "      filter: drop-shadow(0px 1px 2px rgba(0, 0, 0, 0.3));\n",
              "      fill: #FFFFFF;\n",
              "    }\n",
              "  </style>\n",
              "\n",
              "      <script>\n",
              "        const buttonEl =\n",
              "          document.querySelector('#df-9e0f6226-1a9e-4ba6-81a9-e57ef059d11d button.colab-df-convert');\n",
              "        buttonEl.style.display =\n",
              "          google.colab.kernel.accessAllowed ? 'block' : 'none';\n",
              "\n",
              "        async function convertToInteractive(key) {\n",
              "          const element = document.querySelector('#df-9e0f6226-1a9e-4ba6-81a9-e57ef059d11d');\n",
              "          const dataTable =\n",
              "            await google.colab.kernel.invokeFunction('convertToInteractive',\n",
              "                                                     [key], {});\n",
              "          if (!dataTable) return;\n",
              "\n",
              "          const docLinkHtml = 'Like what you see? Visit the ' +\n",
              "            '<a target=\"_blank\" href=https://colab.research.google.com/notebooks/data_table.ipynb>data table notebook</a>'\n",
              "            + ' to learn more about interactive tables.';\n",
              "          element.innerHTML = '';\n",
              "          dataTable['output_type'] = 'display_data';\n",
              "          await google.colab.output.renderOutput(dataTable, element);\n",
              "          const docLink = document.createElement('div');\n",
              "          docLink.innerHTML = docLinkHtml;\n",
              "          element.appendChild(docLink);\n",
              "        }\n",
              "      </script>\n",
              "    </div>\n",
              "  </div>\n",
              "  "
            ]
          },
          "metadata": {},
          "execution_count": 132
        }
      ]
    },
    {
      "cell_type": "markdown",
      "source": [
        "## Eliminación de puntos atípicos\n",
        "Se tomó el 20% como mínimo y 80% como máximo del rango a considerar\n"
      ],
      "metadata": {
        "id": "tGF6fEvmEUd_"
      }
    },
    {
      "cell_type": "code",
      "source": [
        "carb = pd.Series(scaled_df[\"total_carb\"])\n",
        "\n",
        "carb = carb[carb.between(carb.quantile(.2), carb.quantile(.8))]\n",
        "print(len(carb))\n"
      ],
      "metadata": {
        "colab": {
          "base_uri": "https://localhost:8080/"
        },
        "id": "Tnk08jeTHl5P",
        "outputId": "992ec75e-c891-416e-ffcf-94e2fc00a7bb"
      },
      "execution_count": 133,
      "outputs": [
        {
          "output_type": "stream",
          "name": "stdout",
          "text": [
            "133\n"
          ]
        }
      ]
    },
    {
      "cell_type": "code",
      "source": [
        "fat = pd.Series(scaled_df[\"total_fat\"])\n",
        "\n",
        "fat = fat[fat.between(fat.quantile(.2), fat.quantile(.8))]\n",
        "print(len(fat))"
      ],
      "metadata": {
        "colab": {
          "base_uri": "https://localhost:8080/"
        },
        "id": "zoPcF3diJ_Jl",
        "outputId": "dd10fce1-052f-4188-a3fa-a2d538c2c162"
      },
      "execution_count": 134,
      "outputs": [
        {
          "output_type": "stream",
          "name": "stdout",
          "text": [
            "128\n"
          ]
        }
      ]
    },
    {
      "cell_type": "code",
      "source": [
        "frame = {'total_fat': fat,\n",
        "         'total_carb': carb}\n",
        " \n",
        "df = pd.DataFrame(frame)"
      ],
      "metadata": {
        "id": "sLQhPjFhNuOU"
      },
      "execution_count": 135,
      "outputs": []
    },
    {
      "cell_type": "code",
      "source": [
        "df = df.dropna()\n",
        "df.count()"
      ],
      "metadata": {
        "colab": {
          "base_uri": "https://localhost:8080/"
        },
        "id": "OPAT-bBgInEn",
        "outputId": "5be78812-192a-4b44-c6f3-972015fa98d8"
      },
      "execution_count": 136,
      "outputs": [
        {
          "output_type": "execute_result",
          "data": {
            "text/plain": [
              "total_fat     80\n",
              "total_carb    80\n",
              "dtype: int64"
            ]
          },
          "metadata": {},
          "execution_count": 136
        }
      ]
    },
    {
      "cell_type": "markdown",
      "source": [
        "## Visualización de estimadores estadísticos básicos"
      ],
      "metadata": {
        "id": "AT3te7bdKUkj"
      }
    },
    {
      "cell_type": "code",
      "source": [
        "def show_density(var_data):\n",
        "    fig = plt.figure(figsize=(10,4))\n",
        "\n",
        "    var_data.plot.density()\n",
        "\n",
        "    plt.title('Data Density')\n",
        "\n",
        "    plt.axvline(x=var_data.mean(), color = 'cyan', linestyle='dashed', linewidth = 2)\n",
        "    plt.axvline(x=var_data.median(), color = 'red', linestyle='dashed', linewidth = 2)\n",
        "    plt.axvline(x=var_data.mode()[0], color = 'yellow', linestyle='dashed', linewidth = 2)\n",
        "\n",
        "    plt.show()\n",
        "\n",
        "show_density(df['total_fat'])"
      ],
      "metadata": {
        "colab": {
          "base_uri": "https://localhost:8080/",
          "height": 391
        },
        "id": "pNUtRvhHIsnG",
        "outputId": "859144c4-e891-464e-9466-db3679c68668"
      },
      "execution_count": 146,
      "outputs": [
        {
          "output_type": "display_data",
          "data": {
            "text/plain": [
              "<Figure size 1000x400 with 1 Axes>"
            ],
            "image/png": "[encoded data removed]"
          },
          "metadata": {}
        }
      ]
    },
    {
      "cell_type": "markdown",
      "source": [
        "## Crear el modelo"
      ],
      "metadata": {
        "id": "OtRpYuaIKa9L"
      }
    },
    {
      "cell_type": "code",
      "source": [
        "formula = \"total_fat ~ total_carb\"\n",
        "\n",
        "model = smf.ols(formula = formula, data = df)\n",
        "\n",
        "if not hasattr(model, 'params'):\n",
        "    print(\"Model selected but it does not have parameters set. We need to train it!\")"
      ],
      "metadata": {
        "colab": {
          "base_uri": "https://localhost:8080/"
        },
        "id": "PJ5jRB8lOeFS",
        "outputId": "f4c74b90-e782-4d0b-f13f-869cc7d88943"
      },
      "execution_count": 138,
      "outputs": [
        {
          "output_type": "stream",
          "name": "stdout",
          "text": [
            "Model selected but it does not have parameters set. We need to train it!\n"
          ]
        }
      ]
    },
    {
      "cell_type": "markdown",
      "source": [
        "## Entrenar el modelo\n",
        "Identificar los parámetros del modelo: Slope & intercept"
      ],
      "metadata": {
        "id": "aw_vR3IRKfFc"
      }
    },
    {
      "cell_type": "code",
      "source": [
        "fitted_model = model.fit(data=df)\n",
        "\n",
        "print(\"The following model parameters have been found:\\n\" +\n",
        "        f\"Line slope: {fitted_model.params[1]}\\n\"+\n",
        "        f\"Line Intercept: {fitted_model.params[0]}\")"
      ],
      "metadata": {
        "colab": {
          "base_uri": "https://localhost:8080/"
        },
        "id": "BuIBR1ywOlg6",
        "outputId": "f22536a8-e035-4116-bbdf-591d76ba0378"
      },
      "execution_count": 139,
      "outputs": [
        {
          "output_type": "stream",
          "name": "stdout",
          "text": [
            "The following model parameters have been found:\n",
            "Line slope: 0.025297703623347642\n",
            "Line Intercept: 0.42309226279464573\n"
          ]
        }
      ]
    },
    {
      "cell_type": "markdown",
      "source": [
        "## Graficación \n",
        "Del resultado del modelo"
      ],
      "metadata": {
        "id": "6Gu3LAbcMlht"
      }
    },
    {
      "cell_type": "code",
      "source": [
        "graphing.scatter_2D(df, label_x=\"total_fat\", \n",
        "                                label_y=\"total_carb\",\n",
        "                                trendline=lambda x: fitted_model.params[1] * x + fitted_model.params[0])"
      ],
      "metadata": {
        "colab": {
          "base_uri": "https://localhost:8080/",
          "height": 417
        },
        "id": "d4ulIui6OoNS",
        "outputId": "02a0b1b2-deb6-44a2-800a-8e247a39dffe"
      },
      "execution_count": 140,
      "outputs": [
        {
          "output_type": "display_data",
          "data": {
            "text/html": [
              "<html>\n",
              "<head><meta charset=\"utf-8\" /></head>\n",
              "<body>\n",
              "    <div>            <script src=\"https://cdnjs.cloudflare.com/ajax/libs/mathjax/2.7.5/MathJax.js?config=TeX-AMS-MML_SVG\"></script><script type=\"text/javascript\">if (window.MathJax && window.MathJax.Hub && window.MathJax.Hub.Config) {window.MathJax.Hub.Config({SVG: {font: \"STIX-Web\"}});}</script>                <script type=\"text/javascript\">window.PlotlyConfig = {MathJaxConfig: 'local'};</script>\n",
              "        <script src=\"https://cdn.plot.ly/plotly-2.18.2.min.js\"></script>                <div id=\"2c26f042-7995-4171-a758-62ab7f391dec\" class=\"plotly-graph-div\" style=\"height:400px; width:100%;\"></div>            <script type=\"text/javascript\">                                    window.PLOTLYENV=window.PLOTLYENV || {};                                    if (document.getElementById(\"2c26f042-7995-4171-a758-62ab7f391dec\")) {                    Plotly.newPlot(                        \"2c26f042-7995-4171-a758-62ab7f391dec\",                        [{\"hovertemplate\":\"total fat=%{x}<br>total carb=%{y}<extra></extra>\",\"legendgroup\":\"\",\"marker\":{\"color\":\"#636efa\",\"symbol\":\"circle\",\"size\":18},\"mode\":\"markers\",\"name\":\"\",\"orientation\":\"v\",\"showlegend\":false,\"x\":[0.5526315789473684,0.631578947368421,0.26315789473684204,0.3421052631578948,0.605263157894737,0.6578947368421051,0.23684210526315796,0.5263157894736841,0.6578947368421051,0.42105263157894735,0.5526315789473684,0.44736842105263164,0.39473684210526305,0.5526315789473684,0.42105263157894735,0.4736842105263157,0.23684210526315796,0.1842105263157895,0.1842105263157895,0.21052631578947378,0.5,0.21052631578947378,0.4736842105263157,0.23684210526315796,0.44736842105263164,0.39473684210526305,0.631578947368421,0.5526315789473684,0.5263157894736841,0.6578947368421051,0.3421052631578948,0.3157894736842105,0.3421052631578948,0.5789473684210527,0.605263157894737,0.368421052631579,0.5263157894736841,0.605263157894737,0.605263157894737,0.39473684210526305,0.5,0.44736842105263164,0.23684210526315796,0.23684210526315796,0.368421052631579,0.26315789473684204,0.5,0.23684210526315796,0.26315789473684204,0.23684210526315796,0.5263157894736841,0.5263157894736841,0.5789473684210527,0.5526315789473684,0.5789473684210527,0.5789473684210527,0.5526315789473684,0.5,0.5789473684210527,0.42105263157894735,0.5263157894736841,0.1842105263157895,0.368421052631579,0.368421052631579,0.39473684210526305,0.39473684210526305,0.39473684210526305,0.5,0.5526315789473684,0.631578947368421,0.4736842105263157,0.39473684210526305,0.42105263157894735,0.42105263157894735,0.2894736842105263,0.3157894736842105,0.3421052631578948,0.44736842105263164,0.368421052631579,0.42105263157894735],\"xaxis\":\"x\",\"y\":[0.6400000000000001,0.48000000000000004,0.36000000000000004,0.23999999999999994,0.3199999999999999,0.36000000000000004,0.23999999999999994,0.4000000000000001,0.23999999999999994,0.6000000000000001,0.5200000000000002,0.44,0.2800000000000001,0.23999999999999994,0.2800000000000001,0.5200000000000002,0.2,0.48000000000000004,0.44,0.6400000000000001,0.7200000000000002,0.3199999999999999,0.48000000000000004,0.36000000000000004,0.56,0.23999999999999994,0.3199999999999999,0.56,0.3199999999999999,0.44,0.48000000000000004,0.48000000000000004,0.7200000000000002,0.6400000000000001,0.6800000000000002,0.6000000000000001,0.2,0.3199999999999999,0.6000000000000001,0.7200000000000002,0.6000000000000001,0.5200000000000002,0.6800000000000002,0.6400000000000001,0.2800000000000001,0.5200000000000002,0.7200000000000002,0.23999999999999994,0.23999999999999994,0.56,0.3199999999999999,0.56,0.23999999999999994,0.56,0.6400000000000001,0.6800000000000002,0.48000000000000004,0.48000000000000004,0.48000000000000004,0.2,0.23999999999999994,0.23999999999999994,0.2800000000000001,0.6800000000000002,0.6400000000000001,0.6400000000000001,0.6400000000000001,0.44,0.2800000000000001,0.2800000000000001,0.44,0.6000000000000001,0.6400000000000001,0.2,0.44,0.44,0.56,0.3199999999999999,0.23999999999999994,0.6400000000000001],\"yaxis\":\"y\",\"type\":\"scatter\"}],                        {\"template\":{\"data\":{\"barpolar\":[{\"marker\":{\"line\":{\"color\":\"white\",\"width\":0.5},\"pattern\":{\"fillmode\":\"overlay\",\"size\":10,\"solidity\":0.2}},\"type\":\"barpolar\"}],\"bar\":[{\"error_x\":{\"color\":\"#2a3f5f\"},\"error_y\":{\"color\":\"#2a3f5f\"},\"marker\":{\"line\":{\"color\":\"white\",\"width\":0.5},\"pattern\":{\"fillmode\":\"overlay\",\"size\":10,\"solidity\":0.2}},\"type\":\"bar\"}],\"carpet\":[{\"aaxis\":{\"endlinecolor\":\"#2a3f5f\",\"gridcolor\":\"#C8D4E3\",\"linecolor\":\"#C8D4E3\",\"minorgridcolor\":\"#C8D4E3\",\"startlinecolor\":\"#2a3f5f\"},\"baxis\":{\"endlinecolor\":\"#2a3f5f\",\"gridcolor\":\"#C8D4E3\",\"linecolor\":\"#C8D4E3\",\"minorgridcolor\":\"#C8D4E3\",\"startlinecolor\":\"#2a3f5f\"},\"type\":\"carpet\"}],\"choropleth\":[{\"colorbar\":{\"outlinewidth\":0,\"ticks\":\"\"},\"type\":\"choropleth\"}],\"contourcarpet\":[{\"colorbar\":{\"outlinewidth\":0,\"ticks\":\"\"},\"type\":\"contourcarpet\"}],\"contour\":[{\"colorbar\":{\"outlinewidth\":0,\"ticks\":\"\"},\"colorscale\":[[0.0,\"#0d0887\"],[0.1111111111111111,\"#46039f\"],[0.2222222222222222,\"#7201a8\"],[0.3333333333333333,\"#9c179e\"],[0.4444444444444444,\"#bd3786\"],[0.5555555555555556,\"#d8576b\"],[0.6666666666666666,\"#ed7953\"],[0.7777777777777778,\"#fb9f3a\"],[0.8888888888888888,\"#fdca26\"],[1.0,\"#f0f921\"]],\"type\":\"contour\"}],\"heatmapgl\":[{\"colorbar\":{\"outlinewidth\":0,\"ticks\":\"\"},\"colorscale\":[[0.0,\"#0d0887\"],[0.1111111111111111,\"#46039f\"],[0.2222222222222222,\"#7201a8\"],[0.3333333333333333,\"#9c179e\"],[0.4444444444444444,\"#bd3786\"],[0.5555555555555556,\"#d8576b\"],[0.6666666666666666,\"#ed7953\"],[0.7777777777777778,\"#fb9f3a\"],[0.8888888888888888,\"#fdca26\"],[1.0,\"#f0f921\"]],\"type\":\"heatmapgl\"}],\"heatmap\":[{\"colorbar\":{\"outlinewidth\":0,\"ticks\":\"\"},\"colorscale\":[[0.0,\"#0d0887\"],[0.1111111111111111,\"#46039f\"],[0.2222222222222222,\"#7201a8\"],[0.3333333333333333,\"#9c179e\"],[0.4444444444444444,\"#bd3786\"],[0.5555555555555556,\"#d8576b\"],[0.6666666666666666,\"#ed7953\"],[0.7777777777777778,\"#fb9f3a\"],[0.8888888888888888,\"#fdca26\"],[1.0,\"#f0f921\"]],\"type\":\"heatmap\"}],\"histogram2dcontour\":[{\"colorbar\":{\"outlinewidth\":0,\"ticks\":\"\"},\"colorscale\":[[0.0,\"#0d0887\"],[0.1111111111111111,\"#46039f\"],[0.2222222222222222,\"#7201a8\"],[0.3333333333333333,\"#9c179e\"],[0.4444444444444444,\"#bd3786\"],[0.5555555555555556,\"#d8576b\"],[0.6666666666666666,\"#ed7953\"],[0.7777777777777778,\"#fb9f3a\"],[0.8888888888888888,\"#fdca26\"],[1.0,\"#f0f921\"]],\"type\":\"histogram2dcontour\"}],\"histogram2d\":[{\"colorbar\":{\"outlinewidth\":0,\"ticks\":\"\"},\"colorscale\":[[0.0,\"#0d0887\"],[0.1111111111111111,\"#46039f\"],[0.2222222222222222,\"#7201a8\"],[0.3333333333333333,\"#9c179e\"],[0.4444444444444444,\"#bd3786\"],[0.5555555555555556,\"#d8576b\"],[0.6666666666666666,\"#ed7953\"],[0.7777777777777778,\"#fb9f3a\"],[0.8888888888888888,\"#fdca26\"],[1.0,\"#f0f921\"]],\"type\":\"histogram2d\"}],\"histogram\":[{\"marker\":{\"pattern\":{\"fillmode\":\"overlay\",\"size\":10,\"solidity\":0.2},\"line\":{\"width\":1}},\"type\":\"histogram\"}],\"mesh3d\":[{\"colorbar\":{\"outlinewidth\":0,\"ticks\":\"\"},\"type\":\"mesh3d\"}],\"parcoords\":[{\"line\":{\"colorbar\":{\"outlinewidth\":0,\"ticks\":\"\"}},\"type\":\"parcoords\"}],\"pie\":[{\"automargin\":true,\"type\":\"pie\"}],\"scatter3d\":[{\"line\":{\"colorbar\":{\"outlinewidth\":0,\"ticks\":\"\"}},\"marker\":{\"colorbar\":{\"outlinewidth\":0,\"ticks\":\"\"},\"opacity\":0.8},\"type\":\"scatter3d\"}],\"scattercarpet\":[{\"marker\":{\"colorbar\":{\"outlinewidth\":0,\"ticks\":\"\"}},\"type\":\"scattercarpet\"}],\"scattergeo\":[{\"marker\":{\"colorbar\":{\"outlinewidth\":0,\"ticks\":\"\"}},\"type\":\"scattergeo\"}],\"scattergl\":[{\"marker\":{\"colorbar\":{\"outlinewidth\":0,\"ticks\":\"\"}},\"type\":\"scattergl\"}],\"scattermapbox\":[{\"marker\":{\"colorbar\":{\"outlinewidth\":0,\"ticks\":\"\"}},\"type\":\"scattermapbox\"}],\"scatterpolargl\":[{\"marker\":{\"colorbar\":{\"outlinewidth\":0,\"ticks\":\"\"}},\"type\":\"scatterpolargl\"}],\"scatterpolar\":[{\"marker\":{\"colorbar\":{\"outlinewidth\":0,\"ticks\":\"\"}},\"type\":\"scatterpolar\"}],\"scatter\":[{\"fillpattern\":{\"fillmode\":\"overlay\",\"size\":10,\"solidity\":0.2},\"type\":\"scatter\",\"marker\":{\"opacity\":0.8}}],\"scatterternary\":[{\"marker\":{\"colorbar\":{\"outlinewidth\":0,\"ticks\":\"\"}},\"type\":\"scatterternary\"}],\"surface\":[{\"colorbar\":{\"outlinewidth\":0,\"ticks\":\"\"},\"colorscale\":[[0.0,\"#0d0887\"],[0.1111111111111111,\"#46039f\"],[0.2222222222222222,\"#7201a8\"],[0.3333333333333333,\"#9c179e\"],[0.4444444444444444,\"#bd3786\"],[0.5555555555555556,\"#d8576b\"],[0.6666666666666666,\"#ed7953\"],[0.7777777777777778,\"#fb9f3a\"],[0.8888888888888888,\"#fdca26\"],[1.0,\"#f0f921\"]],\"type\":\"surface\"}],\"table\":[{\"cells\":{\"fill\":{\"color\":\"#EBF0F8\"},\"line\":{\"color\":\"white\"}},\"header\":{\"fill\":{\"color\":\"#C8D4E3\"},\"line\":{\"color\":\"white\"}},\"type\":\"table\"}],\"box\":[{\"boxpoints\":\"outliers\",\"notched\":false,\"type\":\"box\"}]},\"layout\":{\"annotationdefaults\":{\"arrowcolor\":\"#2a3f5f\",\"arrowhead\":0,\"arrowwidth\":1},\"autotypenumbers\":\"strict\",\"coloraxis\":{\"colorbar\":{\"outlinewidth\":0,\"ticks\":\"\"}},\"colorscale\":{\"diverging\":[[0,\"#8e0152\"],[0.1,\"#c51b7d\"],[0.2,\"#de77ae\"],[0.3,\"#f1b6da\"],[0.4,\"#fde0ef\"],[0.5,\"#f7f7f7\"],[0.6,\"#e6f5d0\"],[0.7,\"#b8e186\"],[0.8,\"#7fbc41\"],[0.9,\"#4d9221\"],[1,\"#276419\"]],\"sequential\":[[0.0,\"#0d0887\"],[0.1111111111111111,\"#46039f\"],[0.2222222222222222,\"#7201a8\"],[0.3333333333333333,\"#9c179e\"],[0.4444444444444444,\"#bd3786\"],[0.5555555555555556,\"#d8576b\"],[0.6666666666666666,\"#ed7953\"],[0.7777777777777778,\"#fb9f3a\"],[0.8888888888888888,\"#fdca26\"],[1.0,\"#f0f921\"]],\"sequentialminus\":[[0.0,\"#0d0887\"],[0.1111111111111111,\"#46039f\"],[0.2222222222222222,\"#7201a8\"],[0.3333333333333333,\"#9c179e\"],[0.4444444444444444,\"#bd3786\"],[0.5555555555555556,\"#d8576b\"],[0.6666666666666666,\"#ed7953\"],[0.7777777777777778,\"#fb9f3a\"],[0.8888888888888888,\"#fdca26\"],[1.0,\"#f0f921\"]]},\"colorway\":[\"#636efa\",\"#EF553B\",\"#00cc96\",\"#ab63fa\",\"#FFA15A\",\"#19d3f3\",\"#FF6692\",\"#B6E880\",\"#FF97FF\",\"#FECB52\"],\"font\":{\"color\":\"#2a3f5f\"},\"geo\":{\"bgcolor\":\"white\",\"lakecolor\":\"white\",\"landcolor\":\"white\",\"showlakes\":true,\"showland\":true,\"subunitcolor\":\"#C8D4E3\"},\"hoverlabel\":{\"align\":\"left\"},\"hovermode\":\"closest\",\"mapbox\":{\"style\":\"light\"},\"paper_bgcolor\":\"white\",\"plot_bgcolor\":\"white\",\"polar\":{\"angularaxis\":{\"gridcolor\":\"#EBF0F8\",\"linecolor\":\"#EBF0F8\",\"ticks\":\"\"},\"bgcolor\":\"white\",\"radialaxis\":{\"gridcolor\":\"#EBF0F8\",\"linecolor\":\"#EBF0F8\",\"ticks\":\"\"}},\"scene\":{\"xaxis\":{\"backgroundcolor\":\"white\",\"gridcolor\":\"#DFE8F3\",\"gridwidth\":2,\"linecolor\":\"#EBF0F8\",\"showbackground\":true,\"ticks\":\"\",\"zerolinecolor\":\"#EBF0F8\"},\"yaxis\":{\"backgroundcolor\":\"white\",\"gridcolor\":\"#DFE8F3\",\"gridwidth\":2,\"linecolor\":\"#EBF0F8\",\"showbackground\":true,\"ticks\":\"\",\"zerolinecolor\":\"#EBF0F8\"},\"zaxis\":{\"backgroundcolor\":\"white\",\"gridcolor\":\"#DFE8F3\",\"gridwidth\":2,\"linecolor\":\"#EBF0F8\",\"showbackground\":true,\"ticks\":\"\",\"zerolinecolor\":\"#EBF0F8\"},\"camera\":{\"eye\":{\"x\":1.5,\"y\":1.5,\"z\":0.1}}},\"shapedefaults\":{\"line\":{\"color\":\"#2a3f5f\"}},\"ternary\":{\"aaxis\":{\"gridcolor\":\"#DFE8F3\",\"linecolor\":\"#A2B1C6\",\"ticks\":\"\"},\"baxis\":{\"gridcolor\":\"#DFE8F3\",\"linecolor\":\"#A2B1C6\",\"ticks\":\"\"},\"bgcolor\":\"white\",\"caxis\":{\"gridcolor\":\"#DFE8F3\",\"linecolor\":\"#A2B1C6\",\"ticks\":\"\"}},\"title\":{\"x\":0.5},\"xaxis\":{\"automargin\":true,\"gridcolor\":\"#EBF0F8\",\"linecolor\":\"#EBF0F8\",\"ticks\":\"\",\"title\":{\"standoff\":15},\"zerolinecolor\":\"#EBF0F8\",\"zerolinewidth\":2,\"linewidth\":2,\"showline\":true},\"yaxis\":{\"automargin\":true,\"gridcolor\":\"#EBF0F8\",\"linecolor\":\"#EBF0F8\",\"ticks\":\"\",\"title\":{\"standoff\":15},\"zerolinecolor\":\"#EBF0F8\",\"zerolinewidth\":2,\"linewidth\":2,\"showline\":true},\"height\":400,\"margin\":{\"b\":2,\"l\":2,\"r\":2,\"t\":30}}},\"xaxis\":{\"anchor\":\"y\",\"domain\":[0.0,1.0],\"title\":{\"text\":\"total fat\"}},\"yaxis\":{\"anchor\":\"x\",\"domain\":[0.0,1.0],\"title\":{\"text\":\"total carb\"}},\"legend\":{\"tracegroupgap\":0},\"shapes\":[{\"path\":\"M0.1842105263157895 0.42775236609368344 L 0.18659084898175088 0.42781258279101486 L 0.18897117164771227 0.42787279948834633 L 0.19135149431367365 0.42793301618567775 L 0.19373181697963504 0.42799323288300917 L 0.19611213964559643 0.4280534495803406 L 0.1984924623115578 0.428113666277672 L 0.20087278497751918 0.4281738829750035 L 0.20325310764348056 0.4282340996723349 L 0.20563343030944195 0.4282943163696663 L 0.20801375297540334 0.4283545330669977 L 0.21039407564136473 0.42841474976432914 L 0.2127743983073261 0.4284749664616606 L 0.2151547209732875 0.42853518315899203 L 0.2175350436392489 0.42859539985632344 L 0.21991536630521025 0.42865561655365486 L 0.22229568897117163 0.4287158332509863 L 0.22467601163713302 0.42877604994831775 L 0.2270563343030944 0.42883626664564917 L 0.2294366569690558 0.4288964833429806 L 0.23181697963501718 0.428956700040312 L 0.23419730230097857 0.4290169167376434 L 0.23657762496693996 0.4290771334349749 L 0.23895794763290135 0.4291373501323063 L 0.24133827029886273 0.4291975668296377 L 0.24371859296482412 0.42925778352696914 L 0.2460989156307855 0.42931800022430056 L 0.2484792382967469 0.429378216921632 L 0.2508595609627083 0.42943843361896344 L 0.25323988362866967 0.42949865031629486 L 0.255620206294631 0.4295588670136263 L 0.25800052896059245 0.42961908371095775 L 0.2603808516265538 0.42967930040828917 L 0.2627611742925152 0.4297395171056206 L 0.26514149695847655 0.429799733802952 L 0.26752181962443794 0.4298599505002834 L 0.2699021422903993 0.42992016719761483 L 0.2722824649563607 0.4299803838949463 L 0.2746627876223221 0.4300406005922777 L 0.2770431102882835 0.43010081728960914 L 0.2794234329542449 0.43016103398694056 L 0.28180375562020626 0.430221250684272 L 0.28418407828616765 0.43028146738160344 L 0.28656440095212904 0.43034168407893486 L 0.2889447236180904 0.4304019007762663 L 0.2913250462840518 0.4304621174735977 L 0.2937053689500132 0.43052233417092917 L 0.2960856916159746 0.4305825508682606 L 0.298466014281936 0.430642767565592 L 0.30084633694789736 0.4307029842629234 L 0.30322665961385875 0.43076320096025483 L 0.3056069822798201 0.4308234176575863 L 0.3079873049457815 0.4308836343549177 L 0.31036762761174286 0.43094385105224914 L 0.3127479502777043 0.43100406774958056 L 0.31512827294366563 0.43106428444691197 L 0.3175085956096271 0.43112450114424344 L 0.3198889182755884 0.43118471784157486 L 0.32226924094154985 0.4312449345389063 L 0.3246495636075112 0.4313051512362377 L 0.32702988627347257 0.4313653679335691 L 0.32941020893943396 0.4314255846309006 L 0.33179053160539534 0.431485801328232 L 0.33417085427135673 0.4315460180255634 L 0.3365511769373181 0.43160623472289483 L 0.3389314996032795 0.43166645142022625 L 0.3413118222692409 0.4317266681175577 L 0.3436921449352023 0.43178688481488914 L 0.34607246760116367 0.43184710151222055 L 0.34845279026712506 0.43190731820955197 L 0.3508331129330864 0.4319675349068834 L 0.35321343559904783 0.43202775160421486 L 0.35559375826500916 0.4320879683015463 L 0.3579740809309706 0.4321481849988777 L 0.36035440359693194 0.4322084016962091 L 0.3627347262628934 0.4322686183935405 L 0.3651150489288547 0.432328835090872 L 0.36749537159481616 0.4323890517882034 L 0.3698756942607775 0.43244926848553483 L 0.37225601692673893 0.43250948518286625 L 0.37463633959270026 0.43256970188019767 L 0.37701666225866165 0.43262991857752914 L 0.37939698492462304 0.43269013527486055 L 0.3817773075905844 0.43275035197219197 L 0.3841576302565458 0.4328105686695234 L 0.3865379529225072 0.4328707853668548 L 0.3889182755884686 0.4329310020641863 L 0.39129859825443 0.4329912187615177 L 0.39367892092039136 0.4330514354588491 L 0.39605924358635275 0.4331116521561805 L 0.39843956625231414 0.43317186885351194 L 0.40081988891827547 0.4332320855508434 L 0.4032002115842369 0.43329230224817483 L 0.40558053425019824 0.43335251894550625 L 0.4079608569161597 0.43341273564283767 L 0.410341179582121 0.4334729523401691 L 0.41272150224808246 0.43353316903750055 L 0.4151018249140438 0.43359338573483197 L 0.41748214758000524 0.4336536024321634 L 0.41986247024596657 0.4337138191294948 L 0.422242792911928 0.4337740358268262 L 0.42462311557788934 0.4338342525241577 L 0.42700343824385073 0.4338944692214891 L 0.4293837609098121 0.4339546859188205 L 0.4317640835757735 0.43401490261615194 L 0.4341444062417349 0.43407511931348336 L 0.4365247289076963 0.43413533601081483 L 0.43890505157365767 0.43419555270814625 L 0.44128537423961905 0.43425576940547767 L 0.44366569690558044 0.4343159861028091 L 0.44604601957154183 0.4343762028001405 L 0.4484263422375032 0.43443641949747197 L 0.4508066649034646 0.4344966361948034 L 0.453186987569426 0.4345568528921348 L 0.4555673102353874 0.4346170695894662 L 0.45794763290134877 0.43467728628679764 L 0.46032795556731015 0.4347375029841291 L 0.46270827823327154 0.4347977196814605 L 0.4650886008992329 0.43485793637879194 L 0.46746892356519426 0.43491815307612336 L 0.46984924623115565 0.4349783697734548 L 0.47222956889711704 0.43503858647078625 L 0.4746098915630784 0.43509880316811766 L 0.4769902142290398 0.4351590198654491 L 0.4793705368950012 0.4352192365627805 L 0.4817508595609626 0.4352794532601119 L 0.484131182226924 0.4353396699574434 L 0.48651150489288536 0.4353998866547748 L 0.48889182755884675 0.4354601033521062 L 0.49127215022480814 0.43552032004943764 L 0.4936524728907695 0.43558053674676905 L 0.4960327955567309 0.4356407534441005 L 0.4984131182226923 0.43570097014143194 L 0.5007934408886536 0.43576118683876336 L 0.5031737635546151 0.4358214035360948 L 0.5055540862205765 0.43588162023342625 L 0.5079344088865378 0.43594183693075766 L 0.5103147315524992 0.4360020536280891 L 0.5126950542184606 0.4360622703254205 L 0.515075376884422 0.4361224870227519 L 0.5174556995503834 0.43618270372008333 L 0.5198360222163447 0.4362429204174148 L 0.5222163448823061 0.4363031371147462 L 0.5245966675482675 0.43636335381207764 L 0.526976990214229 0.43642357050940905 L 0.5293573128801903 0.43648378720674047 L 0.5317376355461516 0.43654400390407194 L 0.534117958212113 0.43660422060140336 L 0.5364982808780745 0.4366644372987348 L 0.5388786035440358 0.4367246539960662 L 0.5412589262099972 0.4367848706933976 L 0.5436392488759586 0.4368450873907291 L 0.54601957154192 0.4369053040880605 L 0.5483998942078814 0.4369655207853919 L 0.5507802168738427 0.43702573748272333 L 0.5531605395398042 0.4370859541800548 L 0.5555408622057656 0.4371461708773862 L 0.5579211848717269 0.43720638757471764 L 0.5603015075376883 0.43726660427204905 L 0.5626818302036497 0.43732682096938047 L 0.565062152869611 0.4373870376667119 L 0.5674424755355725 0.43744725436404336 L 0.5698227982015338 0.4375074710613748 L 0.5722031208674951 0.4375676877587062 L 0.5745834435334566 0.4376279044560376 L 0.576963766199418 0.4376881211533691 L 0.5793440888653794 0.4377483378507005 L 0.5817244115313407 0.4378085545480319 L 0.5841047341973021 0.43786877124536333 L 0.5864850568632636 0.43792898794269475 L 0.5888653795292249 0.4379892046400262 L 0.5912457021951862 0.43804942133735764 L 0.5936260248611477 0.43810963803468905 L 0.5960063475271091 0.43816985473202047 L 0.5983866701930705 0.4382300714293519 L 0.6007669928590318 0.43829028812668336 L 0.6031473155249932 0.4383505048240148 L 0.6055276381909547 0.4384107215213462 L 0.607907960856916 0.4384709382186776 L 0.6102882835228773 0.438531154916009 L 0.6126686061888388 0.4385913716133405 L 0.6150489288548002 0.4386515883106719 L 0.6174292515207616 0.43871180500800333 L 0.6198095741867229 0.43877202170533475 L 0.6221898968526842 0.43883223840266616 L 0.6245702195186457 0.43889245509999764 L 0.6269505421846071 0.43895267179732905 L 0.6293308648505684 0.43901288849466047 L 0.6317111875165298 0.4390731051919919 L 0.6340915101824912 0.4391333218893233 L 0.6364718328484527 0.4391935385866548 L 0.638852155514414 0.4392537552839862 L 0.6412324781803753 0.4393139719813176 L 0.6436128008463368 0.439374188678649 L 0.6459931235122982 0.43943440537598044 L 0.6483734461782595 0.4394946220733119 L 0.6507537688442209 0.43955483877064333 L 0.6531340915101823 0.43961505546797475 L 0.6555144141761438 0.43967527216530616 L 0.6578947368421051 0.4397354888626376\",\"type\":\"path\",\"line\":{\"color\":\"rgb(228,26,28)\"}}]},                        {\"responsive\": true}                    ).then(function(){\n",
              "                            \n",
              "var gd = document.getElementById('2c26f042-7995-4171-a758-62ab7f391dec');\n",
              "var x = new MutationObserver(function (mutations, observer) {{\n",
              "        var display = window.getComputedStyle(gd).display;\n",
              "        if (!display || display === 'none') {{\n",
              "            console.log([gd, 'removed!']);\n",
              "            Plotly.purge(gd);\n",
              "            observer.disconnect();\n",
              "        }}\n",
              "}});\n",
              "\n",
              "// Listen for the removal of the full notebook cells\n",
              "var notebookContainer = gd.closest('#notebook-container');\n",
              "if (notebookContainer) {{\n",
              "    x.observe(notebookContainer, {childList: true});\n",
              "}}\n",
              "\n",
              "// Listen for the clearing of the current output cell\n",
              "var outputEl = gd.closest('.output');\n",
              "if (outputEl) {{\n",
              "    x.observe(outputEl, {childList: true});\n",
              "}}\n",
              "\n",
              "                        })                };                            </script>        </div>\n",
              "</body>\n",
              "</html>"
            ]
          },
          "metadata": {}
        }
      ]
    },
    {
      "cell_type": "markdown",
      "source": [
        "## Predicción\n",
        "Con un muestra ajena al conjunto de datos"
      ],
      "metadata": {
        "id": "_6bcE1EIMwq1"
      }
    },
    {
      "cell_type": "code",
      "source": [
        "total_carb = { 'total_carb' : [0.45] }\n",
        "\n",
        "approximate_total_fat = fitted_model.predict(total_carb)\n",
        "\n",
        "print(\"Estimated approximate_fat:\")\n",
        "print(approximate_total_fat[0])"
      ],
      "metadata": {
        "colab": {
          "base_uri": "https://localhost:8080/"
        },
        "id": "muaFqwNA4qb4",
        "outputId": "e647a1ed-685d-4f29-b030-4784f586fcdf"
      },
      "execution_count": 147,
      "outputs": [
        {
          "output_type": "stream",
          "name": "stdout",
          "text": [
            "Estimated approximate_fat:\n",
            "0.4344762294251522\n"
          ]
        }
      ]
    }
  ]
}